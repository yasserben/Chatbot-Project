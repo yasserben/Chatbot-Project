{
 "cells": [
  {
   "cell_type": "markdown",
   "metadata": {},
   "source": [
    "# Introduction to DeepPavlov\n",
    "In this tutorial we will learn how to install and construct a simple bot based on pattern matching and the library abstactions."
   ]
  },
  {
   "cell_type": "markdown",
   "metadata": {},
   "source": [
    "### Libraries\n",
    "\n",
    "For this task you will need the following libraries:\n",
    " - [Tensorflow](https://www.tensorflow.org) — an open-source software library for Machine Intelligence.\n",
    " - [Numpy](http://www.numpy.org) — a package for scientific computing.\n",
    " - [DeepPavlov](https://github.com/deepmipt/deeppavlov) - open source library for Natural Language Processing\n",
    " \n"
   ]
  },
  {
   "cell_type": "markdown",
   "metadata": {},
   "source": [
    "# Installation of DeepPavlov library\n",
    "\n",
    "Currently only [Linux, Windows] platforms and Python 3.6 are supported\n",
    "\n",
    "- Create a virtual environment with Python 3.6\n",
    "\n",
    "    `virtualenv env`\n",
    "\n",
    "- Activate the environment (Linux):\n",
    "\n",
    "    `source ./env/bin/activate`\n",
    "\n",
    "- Activate the environment (Windows):\n",
    "\n",
    "    `call env\\Scripts\\activate.bat`\n",
    "\n",
    "- Install the package inside created virtual environment\n",
    "\n",
    "    `pip install deeppavlov`"
   ]
  },
  {
   "cell_type": "markdown",
   "metadata": {},
   "source": [
    "# Run the library using Docker\n",
    "\n",
    "First, install the Docker.\n",
    "\n",
    "Then go to console and get the container with the following command:\n",
    "\n",
    "`docker pull deeppavlov/jupyter`\n",
    "\n",
    "Run the container:\n",
    "\n",
    "`docker run -p 8888:8888 deeppavlov/jupyter`\n",
    "\n",
    "Navigate to http://127.0.0.1:8888/ in your browser.\n",
    "\n",
    "To STOP the container run:\n",
    "\n",
    "`docker stop`"
   ]
  },
  {
   "cell_type": "markdown",
   "metadata": {},
   "source": [
    "# HelloBot"
   ]
  },
  {
   "cell_type": "markdown",
   "metadata": {},
   "source": [
    "In this part we will construct a simple bot that relies on pattern matching to perform a conversation."
   ]
  },
  {
   "cell_type": "code",
   "execution_count": 2,
   "metadata": {},
   "outputs": [],
   "source": [
    "from deeppavlov.agents.default_agent.default_agent import DefaultAgent\n",
    "from deeppavlov.agents.processors.highest_confidence_selector import HighestConfidenceSelector\n",
    "from deeppavlov.skills.pattern_matching_skill import PatternMatchingSkill"
   ]
  },
  {
   "cell_type": "markdown",
   "metadata": {},
   "source": [
    "A pattern matching skill is the simplest example of Natural Language Understanding component. It will search defined patterns through the text. Let's define some simple patterns:"
   ]
  },
  {
   "cell_type": "code",
   "execution_count": 3,
   "metadata": {},
   "outputs": [],
   "source": [
    "skill_hello = PatternMatchingSkill(['Hello world'], patterns=['hi', 'hello', 'good day'])\n",
    "skill_bye = PatternMatchingSkill(['Goodbye world', 'See you around'], patterns=['bye', 'chao', 'see you'])\n",
    "skill_fallback = PatternMatchingSkill(['I don\\'t understand, sorry', 'I can say \"Hello world\"'])"
   ]
  },
  {
   "cell_type": "markdown",
   "metadata": {},
   "source": [
    "If you provide some patterns to the PatternMatchingSkill it will return confidence = 1 when the skill finds the pattern in given text. If no patterns is provided then confidence 0.5 will be returned in any case."
   ]
  },
  {
   "cell_type": "markdown",
   "metadata": {},
   "source": [
    "The skills are used in the `Agent` which can be treated as a Dialog Manager. The agent must be provided with skills and the processor of skills. A simple skill processor is the HighestConfidenceSelector which will pick the skill with highest confidence."
   ]
  },
  {
   "cell_type": "code",
   "execution_count": 4,
   "metadata": {},
   "outputs": [],
   "source": [
    "HelloBot = DefaultAgent([skill_hello, skill_bye, skill_fallback], skills_processor=HighestConfidenceSelector())"
   ]
  },
  {
   "cell_type": "markdown",
   "metadata": {},
   "source": [
    "Since all processing in the library is performed on batches, we can pass a batch of requests to the bot. Let's try it out:"
   ]
  },
  {
   "cell_type": "code",
   "execution_count": 5,
   "metadata": {},
   "outputs": [
    {
     "data": {
      "text/plain": [
       "['Hello world', \"I don't understand, sorry\", 'Goodbye world']"
      ]
     },
     "execution_count": 5,
     "metadata": {},
     "output_type": "execute_result"
    }
   ],
   "source": [
    "HelloBot(['Hello!', 'Boo...', 'chao'])"
   ]
  },
  {
   "cell_type": "code",
   "execution_count": 6,
   "metadata": {},
   "outputs": [
    {
     "data": {
      "text/plain": [
       "['Hello world', 'I can say \"Hello world\"', 'Goodbye world']"
      ]
     },
     "execution_count": 6,
     "metadata": {},
     "output_type": "execute_result"
    }
   ],
   "source": [
    "#Sometimes the Agent choose to respond with another answer even if the question the pattern didn't change\n",
    "#(randomly choosen ?)\n",
    "HelloBot(['Hello!', 'Boo...', 'chao.'])"
   ]
  },
  {
   "cell_type": "markdown",
   "metadata": {},
   "source": [
    "**Exercise** \n",
    "- create a WhatIsYourName skill\n",
    "- create new agent with this skill\n",
    "- check that all works fine"
   ]
  },
  {
   "cell_type": "code",
   "execution_count": 7,
   "metadata": {},
   "outputs": [],
   "source": [
    "#Creation of WhatIsYourName skill\n",
    "skill_name = PatternMatchingSkill(['My name is Pavlov'], patterns=[\"What is your name ?\", \"your name ?\",\n",
    "                                                                   \"Do you have a name ?\"])\n",
    "skill_fallback = PatternMatchingSkill(['I don\\'t understand, sorry', 'I can say \"Hello world\"'])\n",
    "\n"
   ]
  },
  {
   "cell_type": "code",
   "execution_count": 8,
   "metadata": {},
   "outputs": [],
   "source": [
    "#Creation of the a new agent only for the WhatIsYourName skill\n",
    "NameBot = DefaultAgent([skill_name,skill_fallback], skills_processor=HighestConfidenceSelector())"
   ]
  },
  {
   "cell_type": "code",
   "execution_count": 9,
   "metadata": {},
   "outputs": [
    {
     "data": {
      "text/plain": [
       "['My name is Pavlov']"
      ]
     },
     "execution_count": 9,
     "metadata": {},
     "output_type": "execute_result"
    }
   ],
   "source": [
    "NameBot([\"What's your name ?\"])"
   ]
  },
  {
   "cell_type": "code",
   "execution_count": 10,
   "metadata": {},
   "outputs": [
    {
     "data": {
      "text/plain": [
       "[\"I don't understand, sorry\"]"
      ]
     },
     "execution_count": 10,
     "metadata": {},
     "output_type": "execute_result"
    }
   ],
   "source": [
    "#One of the limitations of this simple Agent is that he need to find the full pattern\n",
    "#to be able to do the matching\n",
    "#in this case the \"?\" is missing\n",
    "\n",
    "NameBot([\"What's your name \"])"
   ]
  },
  {
   "cell_type": "code",
   "execution_count": 11,
   "metadata": {},
   "outputs": [
    {
     "data": {
      "text/plain": [
       "['My name is Pavlov']"
      ]
     },
     "execution_count": 11,
     "metadata": {},
     "output_type": "execute_result"
    }
   ],
   "source": [
    "#Whenever he finds the full pattern he answers without taking in account the other things\n",
    "NameBot([\" 1234 What's your name ? 5678aeifsjdkzekjbj \"])"
   ]
  },
  {
   "cell_type": "code",
   "execution_count": null,
   "metadata": {},
   "outputs": [],
   "source": []
  }
 ],
 "metadata": {
  "kernelspec": {
   "display_name": "Python 3",
   "language": "python",
   "name": "python3"
  },
  "language_info": {
   "codemirror_mode": {
    "name": "ipython",
    "version": 3
   },
   "file_extension": ".py",
   "mimetype": "text/x-python",
   "name": "python",
   "nbconvert_exporter": "python",
   "pygments_lexer": "ipython3",
   "version": "3.6.0"
  }
 },
 "nbformat": 4,
 "nbformat_minor": 2
}
